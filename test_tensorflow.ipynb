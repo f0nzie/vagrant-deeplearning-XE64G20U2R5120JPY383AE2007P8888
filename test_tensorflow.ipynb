{
 "cells": [
  {
   "cell_type": "code",
   "execution_count": 2,
   "metadata": {},
   "outputs": [
    {
     "data": {
      "text/plain": [
       "<tf.Tensor: shape=(), dtype=string, numpy=b'hello TensorFlow!'>"
      ]
     },
     "execution_count": 2,
     "metadata": {},
     "output_type": "execute_result"
    }
   ],
   "source": [
    "import tensorflow as tf \n",
    "hello = tf.constant(\"hello TensorFlow!\") \n",
    "hello"
   ]
  },
  {
   "cell_type": "code",
   "execution_count": 22,
   "metadata": {},
   "outputs": [
    {
     "name": "stdout",
     "output_type": "stream",
     "text": [
      "<tf.Variable 'a:0' shape=(1000, 1000) dtype=float32, numpy=\n",
      "array([[0.5637038 , 0.7629392 , 0.58125234, ..., 0.48616135, 0.6173711 ,\n",
      "        0.44464135],\n",
      "       [0.04005599, 0.5092845 , 0.15481448, ..., 0.6065867 , 0.24032891,\n",
      "        0.10305655],\n",
      "       [0.84621596, 0.41518164, 0.05496132, ..., 0.4236635 , 0.6091366 ,\n",
      "        0.06446958],\n",
      "       ...,\n",
      "       [0.6995648 , 0.01264739, 0.10407436, ..., 0.01015449, 0.39236236,\n",
      "        0.00505841],\n",
      "       [0.15692604, 0.16930914, 0.8320383 , ..., 0.4741348 , 0.710225  ,\n",
      "        0.48877943],\n",
      "       [0.26343536, 0.39365005, 0.8493736 , ..., 0.81189585, 0.12095618,\n",
      "        0.20133686]], dtype=float32)>\n",
      "<tf.Variable 'b:0' shape=(1000, 1000) dtype=float32, numpy=\n",
      "array([[0.39116824, 0.65268624, 0.55746984, ..., 0.15399349, 0.5247302 ,\n",
      "        0.05425489],\n",
      "       [0.4419124 , 0.9434649 , 0.33738732, ..., 0.80543494, 0.95120263,\n",
      "        0.65117264],\n",
      "       [0.69222796, 0.7623178 , 0.8590673 , ..., 0.42300975, 0.14126492,\n",
      "        0.90362084],\n",
      "       ...,\n",
      "       [0.37045503, 0.8205559 , 0.09149039, ..., 0.585677  , 0.8985033 ,\n",
      "        0.8879632 ],\n",
      "       [0.438205  , 0.6847892 , 0.13397872, ..., 0.17401505, 0.67435074,\n",
      "        0.45107365],\n",
      "       [0.02874124, 0.67982364, 0.6780704 , ..., 0.4030416 , 0.93133116,\n",
      "        0.6302217 ]], dtype=float32)>\n",
      "[<tf.Tensor: shape=(1000, 1000), dtype=float32, numpy=\n",
      "array([[4.6922038e+26, 4.7586608e+26, 4.8102626e+26, ..., 4.7652242e+26,\n",
      "        4.7108078e+26, 4.7979922e+26],\n",
      "       [4.6525706e+26, 4.7184668e+26, 4.7696337e+26, ..., 4.7249745e+26,\n",
      "        4.6710181e+26, 4.7574658e+26],\n",
      "       [4.6413853e+26, 4.7071214e+26, 4.7581664e+26, ..., 4.7136139e+26,\n",
      "        4.6597877e+26, 4.7460281e+26],\n",
      "       ...,\n",
      "       [4.7397426e+26, 4.8068740e+26, 4.8589989e+26, ..., 4.8135034e+26,\n",
      "        4.7585350e+26, 4.8466035e+26],\n",
      "       [4.6973195e+26, 4.7638477e+26, 4.8155070e+26, ..., 4.7704188e+26,\n",
      "        4.7159437e+26, 4.8032230e+26],\n",
      "       [4.8625488e+26, 4.9314168e+26, 4.9848954e+26, ..., 4.9382200e+26,\n",
      "        4.8818290e+26, 4.9721782e+26]], dtype=float32)>, <tf.Tensor: shape=(1000, 1000), dtype=float32, numpy=\n",
      "array([[4.9403192e+26, 4.9512035e+26, 4.9282458e+26, ..., 5.0287366e+26,\n",
      "        4.9557377e+26, 4.9737735e+26],\n",
      "       [5.0479161e+26, 5.0590384e+26, 5.0355815e+26, ..., 5.1382609e+26,\n",
      "        5.0636718e+26, 5.0821001e+26],\n",
      "       [5.0984856e+26, 5.1097193e+26, 5.0860278e+26, ..., 5.1897347e+26,\n",
      "        5.1143993e+26, 5.1330120e+26],\n",
      "       ...,\n",
      "       [4.8957323e+26, 4.9065189e+26, 4.8837689e+26, ..., 4.9833510e+26,\n",
      "        4.9110114e+26, 4.9288844e+26],\n",
      "       [4.9389637e+26, 4.9498455e+26, 4.9268944e+26, ..., 5.0273568e+26,\n",
      "        4.9543789e+26, 4.9724091e+26],\n",
      "       [5.0129783e+26, 5.0240224e+26, 5.0007286e+26, ..., 5.1026967e+26,\n",
      "        5.0286245e+26, 5.0469255e+26]], dtype=float32)>]\n"
     ]
    }
   ],
   "source": [
    "import tensorflow as tf \n",
    "\n",
    "c1 = []\n",
    "n = 10\n",
    "\n",
    "def matpow(M, n):\n",
    "    if n < 1: #Abstract cases where n < 1\n",
    "        return M\n",
    "    else:\n",
    "        return tf.matmul(M, matpow(M, n-1))\n",
    "\n",
    "with tf.device('/cpu:0'):\n",
    "    a = tf.Variable(tf.random.uniform(shape=(1000, 1000)), name=\"a\")\n",
    "    b = tf.Variable(tf.random.uniform(shape=(1000, 1000)), name=\"b\")\n",
    "    c1.append(matpow(a, n))\n",
    "    c1.append(matpow(b, n))\n",
    "\n",
    "print(a)\n",
    "print(b)\n",
    "print(c1)"
   ]
  },
  {
   "cell_type": "code",
   "execution_count": 23,
   "metadata": {},
   "outputs": [
    {
     "data": {
      "text/plain": [
       "False"
      ]
     },
     "execution_count": 23,
     "metadata": {},
     "output_type": "execute_result"
    }
   ],
   "source": [
    "tf.device(\"cpu:0\") == tf.device(\"/cpu:0\")"
   ]
  },
  {
   "cell_type": "code",
   "execution_count": 24,
   "metadata": {},
   "outputs": [
    {
     "data": {
      "text/plain": [
       "<tensorflow.python.eager.context._EagerDeviceContext at 0x7f6bf0aefdc0>"
      ]
     },
     "execution_count": 24,
     "metadata": {},
     "output_type": "execute_result"
    }
   ],
   "source": [
    "tf.device(\"/cpu:0\")"
   ]
  },
  {
   "cell_type": "code",
   "execution_count": 25,
   "metadata": {},
   "outputs": [
    {
     "name": "stdout",
     "output_type": "stream",
     "text": [
      "False\n",
      "True\n"
     ]
    }
   ],
   "source": [
    "import tensorflow as tf\n",
    "\n",
    "print(tf.test.is_gpu_available())\n",
    "print(tf.test.is_built_with_cuda())"
   ]
  },
  {
   "cell_type": "code",
   "execution_count": 30,
   "metadata": {},
   "outputs": [
    {
     "data": {
      "text/plain": [
       "True"
      ]
     },
     "execution_count": 30,
     "metadata": {},
     "output_type": "execute_result"
    }
   ],
   "source": [
    "tf.config.list_physical_devices('GPU') == list()"
   ]
  },
  {
   "cell_type": "code",
   "execution_count": 27,
   "metadata": {},
   "outputs": [
    {
     "data": {
      "text/plain": [
       "[PhysicalDevice(name='/physical_device:CPU:0', device_type='CPU')]"
      ]
     },
     "execution_count": 27,
     "metadata": {},
     "output_type": "execute_result"
    }
   ],
   "source": [
    "tf.config.list_physical_devices('CPU')"
   ]
  },
  {
   "cell_type": "code",
   "execution_count": 6,
   "metadata": {},
   "outputs": [
    {
     "data": {
      "text/plain": [
       "''"
      ]
     },
     "execution_count": 6,
     "metadata": {},
     "output_type": "execute_result"
    }
   ],
   "source": [
    "tf.test.gpu_device_name()"
   ]
  },
  {
   "cell_type": "code",
   "execution_count": 7,
   "metadata": {},
   "outputs": [
    {
     "data": {
      "text/plain": [
       "False"
      ]
     },
     "execution_count": 7,
     "metadata": {},
     "output_type": "execute_result"
    }
   ],
   "source": [
    "import tensorflow as tf\n",
    "\n",
    "tf.test.is_gpu_available(\n",
    "    cuda_only=False\n",
    "    \n",
    ")\n"
   ]
  },
  {
   "cell_type": "code",
   "execution_count": 9,
   "metadata": {},
   "outputs": [
    {
     "name": "stdout",
     "output_type": "stream",
     "text": [
      "[name: \"/device:CPU:0\"\n",
      "device_type: \"CPU\"\n",
      "memory_limit: 268435456\n",
      "locality {\n",
      "}\n",
      "incarnation: 11639737994969878498\n",
      ", name: \"/device:XLA_CPU:0\"\n",
      "device_type: \"XLA_CPU\"\n",
      "memory_limit: 17179869184\n",
      "locality {\n",
      "}\n",
      "incarnation: 16547017043734837967\n",
      "physical_device_desc: \"device: XLA_CPU device\"\n",
      "]\n"
     ]
    }
   ],
   "source": [
    "# https://stackoverflow.com/a/48394195/5270873\n",
    "from tensorflow.python.client import device_lib\n",
    "print(device_lib.list_local_devices())"
   ]
  },
  {
   "cell_type": "code",
   "execution_count": 10,
   "metadata": {},
   "outputs": [
    {
     "name": "stdout",
     "output_type": "stream",
     "text": [
      "Please install GPU version of TF\n"
     ]
    }
   ],
   "source": [
    "# https://stackoverflow.com/a/49463370/5270873\n",
    "import tensorflow as tf0\n",
    "if tf.test.gpu_device_name():\n",
    "    print('Default GPU Device: {}'.format(tf.test.gpu_device_name()))\n",
    "else:\n",
    "    print(\"Please install GPU version of TF\")"
   ]
  },
  {
   "cell_type": "code",
   "execution_count": null,
   "metadata": {
    "collapsed": true
   },
   "outputs": [],
   "source": []
  }
 ],
 "metadata": {
  "anaconda-cloud": {},
  "kernelspec": {
   "display_name": "Python 3",
   "language": "python",
   "name": "python3"
  },
  "language_info": {
   "codemirror_mode": {
    "name": "ipython",
    "version": 3
   },
   "file_extension": ".py",
   "mimetype": "text/x-python",
   "name": "python",
   "nbconvert_exporter": "python",
   "pygments_lexer": "ipython3",
   "version": "3.8.3"
  }
 },
 "nbformat": 4,
 "nbformat_minor": 1
}
